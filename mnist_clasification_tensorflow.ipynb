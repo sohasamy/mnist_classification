{
  "nbformat": 4,
  "nbformat_minor": 0,
  "metadata": {
    "colab": {
      "name": "minist_clasification_tensorflow.ipynb",
      "provenance": [],
      "collapsed_sections": []
    },
    "kernelspec": {
      "name": "python3",
      "display_name": "Python 3"
    }
  },
  "cells": [
    {
      "cell_type": "code",
      "metadata": {
        "id": "klUb7YevGVEl",
        "colab": {
          "base_uri": "https://localhost:8080/"
        },
        "outputId": "2eb15f2b-41a4-445f-d596-a2ff8f74e5d7"
      },
      "source": [
        "# TensorFlow and tf.keras\n",
        "import tensorflow as tf\n",
        "import keras\n",
        " \n",
        "# Helper libraries\n",
        "import numpy as np\n",
        "import matplotlib.pyplot as plt\n",
        "from tensorflow.keras import Model, layers\n",
        "\n",
        "from sklearn.metrics import confusion_matrix, precision_score, recall_score, roc_curve\n",
        "import matplotlib.pyplot as plt\n",
        " \n",
        "print(tf.__version__)"
      ],
      "execution_count": null,
      "outputs": [
        {
          "output_type": "stream",
          "text": [
            "2.5.0\n"
          ],
          "name": "stdout"
        }
      ]
    },
    {
      "cell_type": "markdown",
      "metadata": {
        "id": "XhzsRyB05Xjy"
      },
      "source": [
        "## Get Dataset and prepare"
      ]
    },
    {
      "cell_type": "markdown",
      "metadata": {
        "id": "m0Q6gAct5h4V"
      },
      "source": [
        "You can get mnist data set for handwritter numbers from 0-9 in gray scale with square dimension 28*28 with total number of images about 60000 image."
      ]
    },
    {
      "cell_type": "code",
      "metadata": {
        "id": "_HxrWNHg5cwZ",
        "colab": {
          "base_uri": "https://localhost:8080/"
        },
        "outputId": "412ec357-71eb-46c2-ef44-6cee0ecd9749"
      },
      "source": [
        "(x_train, y_train),(x_test, y_test) = tf.keras.datasets.mnist.load_data() # Load data x is the images and y are lables"
      ],
      "execution_count": null,
      "outputs": [
        {
          "output_type": "stream",
          "text": [
            "Downloading data from https://storage.googleapis.com/tensorflow/tf-keras-datasets/mnist.npz\n",
            "11493376/11490434 [==============================] - 0s 0us/step\n"
          ],
          "name": "stdout"
        }
      ]
    },
    {
      "cell_type": "code",
      "metadata": {
        "id": "b3Z9M_OC_o6P"
      },
      "source": [
        "batch_size =32\n",
        "num_classes = 10 # the number of output classes to make classification between them 0-9 in this example\n",
        "learning_rate = 0.0001 # always from 0-1\n",
        "training_steps = 200\n",
        "display_step = 10\n",
        "\n",
        "# Network parameters.\n",
        "conv1_filters = 32 # number of filters for 1st conv layer.\n",
        "conv2_filters = 64 # number of filters for 2nd conv layer.\n",
        "fc1_units = 1024 # number of neurons for 1st fully-connected layer."
      ],
      "execution_count": null,
      "outputs": []
    },
    {
      "cell_type": "code",
      "metadata": {
        "colab": {
          "base_uri": "https://localhost:8080/"
        },
        "id": "8yUHievI-pV5",
        "outputId": "bd8e9a7e-789b-4db3-afdb-c5d54f4e9f91"
      },
      "source": [
        "print('Train: X=%s, y=%s' % (x_train.shape, y_train.shape))\n",
        "print('Test: X=%s, y=%s' % (x_test.shape, y_test.shape))"
      ],
      "execution_count": null,
      "outputs": [
        {
          "output_type": "stream",
          "text": [
            "Train: X=(60000, 28, 28), y=(60000,)\n",
            "Test: X=(10000, 28, 28), y=(10000,)\n"
          ],
          "name": "stdout"
        }
      ]
    },
    {
      "cell_type": "code",
      "metadata": {
        "id": "VFA7OTZFCrBo"
      },
      "source": [
        "# Convert to float32.\n",
        "x_train, x_test = np.array(x_train, np.float32), np.array(x_test, np.float32)\n",
        "# Normalize images value from [0, 255] to [0, 1].\n",
        "x_train, x_test = x_train / 255., x_test / 255."
      ],
      "execution_count": null,
      "outputs": []
    },
    {
      "cell_type": "code",
      "metadata": {
        "id": "y3ynVIBZ-Ue0"
      },
      "source": [
        "# Use tf.data API to shuffle and batch data.\n",
        "#train_data = tf.data.Dataset.from_tensor_slices((x_train, y_train))\n",
        "#train_data = train_data.repeat().shuffle(5000).batch(batch_size).prefetch(1)"
      ],
      "execution_count": null,
      "outputs": []
    },
    {
      "cell_type": "code",
      "metadata": {
        "colab": {
          "base_uri": "https://localhost:8080/"
        },
        "id": "Lcv_XcFdAEnL",
        "outputId": "ae3c5f29-16c8-4f17-93d8-af07561af99e"
      },
      "source": [
        "y_train = y_train[:60000]\n",
        "y_test =y_test[:10000]\n",
        "\n",
        "x_train = tf.reshape(x_train, [-1, 28, 28, 1])\n",
        "x_test = tf.reshape(x_test, [-1, 28, 28, 1])\n",
        "\n",
        "print(x_train.shape)\n"
      ],
      "execution_count": null,
      "outputs": [
        {
          "output_type": "stream",
          "text": [
            "(60000, 28, 28, 1)\n"
          ],
          "name": "stdout"
        }
      ]
    },
    {
      "cell_type": "code",
      "metadata": {
        "id": "yQ_UfykK7_3R",
        "colab": {
          "base_uri": "https://localhost:8080/"
        },
        "outputId": "d16d3bdc-c7b1-4f86-b47a-b1ea81abf8fa"
      },
      "source": [
        "# Define a simple sequential model\n",
        "def create_model():\n",
        "\n",
        "  model = tf.keras.models.Sequential([\n",
        "    keras.layers.Conv2D(32, kernel_size=5, activation=tf.nn.relu, input_shape=(28,28,1)),\n",
        "    keras.layers.MaxPool2D(2, strides=2),\n",
        "    keras.layers.Conv2D(64, kernel_size=5, activation=tf.nn.relu),\n",
        "    keras.layers.MaxPool2D(2, strides=2),\n",
        "    keras.layers.Flatten(),\n",
        "    keras.layers.Dense(1024),\n",
        "    keras.layers.Dropout(rate=0.5),\n",
        "    keras.layers.Dense(10)\n",
        "\n",
        "  ])\n",
        "\n",
        "  model.compile(optimizer='adam',\n",
        "                loss=tf.losses.SparseCategoricalCrossentropy(from_logits=True),\n",
        "                metrics=[tf.metrics.SparseCategoricalAccuracy()])\n",
        "  \n",
        "  model.build((60000, 28, 28, 1)) # this line wasn't added so an error was launched\n",
        "\n",
        "  return model\n",
        "\n",
        "# Create a basic model instance\n",
        "model = create_model()\n",
        "\n",
        "# Display the model's architecture\n",
        "model.summary()\n"
      ],
      "execution_count": null,
      "outputs": [
        {
          "output_type": "stream",
          "text": [
            "Model: \"sequential\"\n",
            "_________________________________________________________________\n",
            "Layer (type)                 Output Shape              Param #   \n",
            "=================================================================\n",
            "module_wrapper (ModuleWrappe (60000, 24, 24, 32)       832       \n",
            "_________________________________________________________________\n",
            "module_wrapper_1 (ModuleWrap (60000, 12, 12, 32)       0         \n",
            "_________________________________________________________________\n",
            "module_wrapper_2 (ModuleWrap (60000, 8, 8, 64)         51264     \n",
            "_________________________________________________________________\n",
            "module_wrapper_3 (ModuleWrap (60000, 4, 4, 64)         0         \n",
            "_________________________________________________________________\n",
            "module_wrapper_4 (ModuleWrap (60000, 1024)             0         \n",
            "_________________________________________________________________\n",
            "module_wrapper_5 (ModuleWrap (60000, 1024)             1049600   \n",
            "_________________________________________________________________\n",
            "module_wrapper_6 (ModuleWrap (60000, 1024)             0         \n",
            "_________________________________________________________________\n",
            "module_wrapper_7 (ModuleWrap (60000, 10)               10250     \n",
            "=================================================================\n",
            "Total params: 1,111,946\n",
            "Trainable params: 1,111,946\n",
            "Non-trainable params: 0\n",
            "_________________________________________________________________\n"
          ],
          "name": "stdout"
        }
      ]
    },
    {
      "cell_type": "code",
      "metadata": {
        "colab": {
          "base_uri": "https://localhost:8080/"
        },
        "id": "rRSSwQs8BiFa",
        "outputId": "c1d2b454-8bf1-4d0c-db7a-dd5819297069"
      },
      "source": [
        "from google.colab import drive\n",
        "drive.mount('/ssd_keras')\n",
        "import os\n",
        "os.chdir(\"/ssd_keras/My Drive/Colab_Notebooks\")"
      ],
      "execution_count": null,
      "outputs": [
        {
          "output_type": "stream",
          "text": [
            "Mounted at /ssd_keras\n"
          ],
          "name": "stdout"
        }
      ]
    },
    {
      "cell_type": "code",
      "metadata": {
        "colab": {
          "base_uri": "https://localhost:8080/"
        },
        "id": "yxQitvvS99-W",
        "outputId": "96935e16-ee1b-49cf-c617-183d3a3ddacb"
      },
      "source": [
        "\n",
        "# Create a callback that saves the model's weights\n",
        "cp_callback = tf.keras.callbacks.ModelCheckpoint(filepath=\"/ssd_keras/MyDrive/Colab_Notebooks/cp.ckpt\",\n",
        "                                                 save_weights_only=True,\n",
        "                                                 verbose=1)\n",
        "\n",
        "# Train the model with the new callback\n",
        "model.fit(x_train, \n",
        "          y_train,  \n",
        "          epochs=10,\n",
        "          validation_data=(x_test, y_test),\n",
        "          callbacks=[cp_callback])  # Pass callback to training\n",
        "\n"
      ],
      "execution_count": null,
      "outputs": [
        {
          "output_type": "stream",
          "text": [
            "Epoch 1/10\n",
            "1875/1875 [==============================] - 81s 43ms/step - loss: 0.1151 - sparse_categorical_accuracy: 0.9648 - val_loss: 0.0360 - val_sparse_categorical_accuracy: 0.9884\n",
            "\n",
            "Epoch 00001: saving model to /ssd_keras/MyDrive/Colab_Notebooks/cp.ckpt\n",
            "Epoch 2/10\n",
            "1875/1875 [==============================] - 80s 43ms/step - loss: 0.0445 - sparse_categorical_accuracy: 0.9867 - val_loss: 0.0461 - val_sparse_categorical_accuracy: 0.9856\n",
            "\n",
            "Epoch 00002: saving model to /ssd_keras/MyDrive/Colab_Notebooks/cp.ckpt\n",
            "Epoch 3/10\n",
            "1875/1875 [==============================] - 81s 43ms/step - loss: 0.0341 - sparse_categorical_accuracy: 0.9891 - val_loss: 0.0419 - val_sparse_categorical_accuracy: 0.9865\n",
            "\n",
            "Epoch 00003: saving model to /ssd_keras/MyDrive/Colab_Notebooks/cp.ckpt\n",
            "Epoch 4/10\n",
            "1875/1875 [==============================] - 82s 44ms/step - loss: 0.0296 - sparse_categorical_accuracy: 0.9907 - val_loss: 0.0357 - val_sparse_categorical_accuracy: 0.9901\n",
            "\n",
            "Epoch 00004: saving model to /ssd_keras/MyDrive/Colab_Notebooks/cp.ckpt\n",
            "Epoch 5/10\n",
            "1875/1875 [==============================] - 83s 44ms/step - loss: 0.0249 - sparse_categorical_accuracy: 0.9921 - val_loss: 0.0338 - val_sparse_categorical_accuracy: 0.9898\n",
            "\n",
            "Epoch 00005: saving model to /ssd_keras/MyDrive/Colab_Notebooks/cp.ckpt\n",
            "Epoch 6/10\n",
            "1875/1875 [==============================] - 81s 43ms/step - loss: 0.0232 - sparse_categorical_accuracy: 0.9929 - val_loss: 0.0458 - val_sparse_categorical_accuracy: 0.9878\n",
            "\n",
            "Epoch 00006: saving model to /ssd_keras/MyDrive/Colab_Notebooks/cp.ckpt\n",
            "Epoch 7/10\n",
            "1875/1875 [==============================] - 81s 43ms/step - loss: 0.0212 - sparse_categorical_accuracy: 0.9941 - val_loss: 0.0404 - val_sparse_categorical_accuracy: 0.9900\n",
            "\n",
            "Epoch 00007: saving model to /ssd_keras/MyDrive/Colab_Notebooks/cp.ckpt\n",
            "Epoch 8/10\n",
            "1875/1875 [==============================] - 81s 43ms/step - loss: 0.0214 - sparse_categorical_accuracy: 0.9941 - val_loss: 0.0455 - val_sparse_categorical_accuracy: 0.9899\n",
            "\n",
            "Epoch 00008: saving model to /ssd_keras/MyDrive/Colab_Notebooks/cp.ckpt\n",
            "Epoch 9/10\n",
            "1875/1875 [==============================] - 82s 44ms/step - loss: 0.0210 - sparse_categorical_accuracy: 0.9941 - val_loss: 0.0564 - val_sparse_categorical_accuracy: 0.9883\n",
            "\n",
            "Epoch 00009: saving model to /ssd_keras/MyDrive/Colab_Notebooks/cp.ckpt\n",
            "Epoch 10/10\n",
            "1875/1875 [==============================] - 80s 43ms/step - loss: 0.0175 - sparse_categorical_accuracy: 0.9948 - val_loss: 0.0732 - val_sparse_categorical_accuracy: 0.9876\n",
            "\n",
            "Epoch 00010: saving model to /ssd_keras/MyDrive/Colab_Notebooks/cp.ckpt\n"
          ],
          "name": "stdout"
        },
        {
          "output_type": "execute_result",
          "data": {
            "text/plain": [
              "<tensorflow.python.keras.callbacks.History at 0x7fe545bebfd0>"
            ]
          },
          "metadata": {
            "tags": []
          },
          "execution_count": 39
        }
      ]
    },
    {
      "cell_type": "markdown",
      "metadata": {
        "id": "qQ5LS6gyqiED"
      },
      "source": [
        "## Evaluation the model"
      ]
    },
    {
      "cell_type": "code",
      "metadata": {
        "id": "eKIGCAqmg47m",
        "colab": {
          "base_uri": "https://localhost:8080/"
        },
        "outputId": "3ed0c879-7507-4626-ab42-135edd8f4124"
      },
      "source": [
        "model = create_model()\n",
        "\n",
        "model.load_weights(\"/ssd_keras/MyDrive/Colab_Notebooks/cp.ckpt\")\n",
        "\n",
        "## using the usual accuracy and loss\n",
        "loss, acc = model.evaluate(x_test, y_test, verbose=2)\n",
        "## using confusion matricx\n",
        "mnist_pred = model.predict_classes(x_test)\n",
        "print(\"confusion matrix\", confusion_matrix(y_test, mnist_pred))\n",
        "print(\"precision score\",precision_score(y_test, mnist_pred, average= None))\n",
        "print(\"recall score\", recall_score(y_test, mnist_pred, average=None))\n"
      ],
      "execution_count": null,
      "outputs": [
        {
          "output_type": "stream",
          "text": [
            "313/313 - 3s - loss: 0.0732 - sparse_categorical_accuracy: 0.9876\n"
          ],
          "name": "stdout"
        },
        {
          "output_type": "stream",
          "text": [
            "/usr/local/lib/python3.7/dist-packages/tensorflow/python/keras/engine/sequential.py:455: UserWarning: `model.predict_classes()` is deprecated and will be removed after 2021-01-01. Please use instead:* `np.argmax(model.predict(x), axis=-1)`,   if your model does multi-class classification   (e.g. if it uses a `softmax` last-layer activation).* `(model.predict(x) > 0.5).astype(\"int32\")`,   if your model does binary classification   (e.g. if it uses a `sigmoid` last-layer activation).\n",
            "  warnings.warn('`model.predict_classes()` is deprecated and '\n"
          ],
          "name": "stderr"
        },
        {
          "output_type": "stream",
          "text": [
            "confusion matrix [[ 974    1    1    0    0    1    0    1    2    0]\n",
            " [   0 1128    0    3    0    2    1    0    1    0]\n",
            " [   0    2 1020    3    0    1    0    4    2    0]\n",
            " [   0    0    0 1004    0    4    0    1    1    0]\n",
            " [   0    2    1    0  974    0    2    1    1    1]\n",
            " [   1    0    0    8    0  881    1    1    0    0]\n",
            " [   7    1    0    1    1    2  944    0    2    0]\n",
            " [   0    4    3    2    2    0    0 1014    1    2]\n",
            " [   0    0    0    2    0    0    0    0  970    2]\n",
            " [   1    0    1    1   13    9    0   10    7  967]]\n",
            "precision score [0.99084435 0.99121265 0.99415205 0.98046875 0.98383838 0.97888889\n",
            " 0.99578059 0.98255814 0.98277609 0.99485597]\n",
            "recall score [0.99387755 0.9938326  0.98837209 0.99405941 0.99185336 0.98766816\n",
            " 0.98538622 0.98638132 0.99589322 0.95837463]\n"
          ],
          "name": "stdout"
        }
      ]
    }
  ]
}